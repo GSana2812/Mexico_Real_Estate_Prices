{
 "cells": [
  {
   "cell_type": "code",
   "execution_count": 24,
   "metadata": {
    "collapsed": true,
    "ExecuteTime": {
     "end_time": "2023-12-16T21:34:53.162869Z",
     "start_time": "2023-12-16T21:34:53.109248Z"
    }
   },
   "outputs": [],
   "source": [
    "from src.modelling import MLWorkflow\n",
    "from sklearn.linear_model import LinearRegression\n",
    "from sklearn.tree import DecisionTreeRegressor\n",
    "from sklearn.ensemble import RandomForestRegressor\n",
    "import pandas as pd\n",
    "from src.preparation import Preprocessor\n",
    "import warnings\n",
    "warnings.filterwarnings('ignore')"
   ]
  },
  {
   "cell_type": "markdown",
   "source": [
    "We will evaluate the performance on our training set, firstly taking 2 ML algorithms into account: Linear Regression and DecisionTreeRegressor. I think DecisionTreeRegressor, will have a better performance, since there were a lot of non-linear relationships between features and our target variable."
   ],
   "metadata": {
    "collapsed": false
   }
  },
  {
   "cell_type": "code",
   "execution_count": 25,
   "outputs": [],
   "source": [
    "# Importing data\n",
    "X_train = pd.read_csv('../data/X_train.csv')\n",
    "X_test = pd.read_csv('../data/X_test.csv')\n",
    "y_train = pd.read_csv('../data/y_train.csv')\n",
    "y_test = pd.read_csv('../data/y_test.csv')"
   ],
   "metadata": {
    "collapsed": false,
    "ExecuteTime": {
     "end_time": "2023-12-16T21:34:54.217219Z",
     "start_time": "2023-12-16T21:34:54.178768Z"
    }
   }
  },
  {
   "cell_type": "code",
   "execution_count": 26,
   "outputs": [],
   "source": [
    "# Perform predictions and choosing the best model\n",
    "components = {'X_train':X_train,\n",
    "              'X_test':X_test,\n",
    "              'y_train':y_train,\n",
    "              'y_test':y_test}"
   ],
   "metadata": {
    "collapsed": false,
    "ExecuteTime": {
     "end_time": "2023-12-16T21:34:54.669509Z",
     "start_time": "2023-12-16T21:34:54.661961Z"
    }
   }
  },
  {
   "cell_type": "code",
   "execution_count": 27,
   "outputs": [
    {
     "data": {
      "text/plain": "      property_type  surface_total_in_m2                borough        lat  \\\n0             house                  NaN         Álvaro Obregón  19.346749   \n1         apartment                  NaN          Benito Juárez  19.370046   \n2         apartment                  NaN              Iztacalco  19.410307   \n3         apartment                  NaN         Álvaro Obregón  19.366302   \n4         apartment                 49.0                Tláhuac  19.299023   \n...             ...                  ...                    ...        ...   \n17053     apartment                238.0  Cuajimalpa de Morelos  19.360375   \n17054     apartment                143.0          Benito Juárez  19.394358   \n17055         house                 60.0          Benito Juárez  19.358803   \n17056         house                  NaN         Álvaro Obregón  19.347357   \n17057     apartment                  NaN          Benito Juárez  19.403014   \n\n             lon  \n0     -99.233710  \n1     -99.146155  \n2     -99.065399  \n3     -99.193367  \n4     -99.043647  \n...          ...  \n17053 -99.270396  \n17054 -99.177444  \n17055 -99.160426  \n17056 -99.254654  \n17057 -99.158422  \n\n[17058 rows x 5 columns]",
      "text/html": "<div>\n<style scoped>\n    .dataframe tbody tr th:only-of-type {\n        vertical-align: middle;\n    }\n\n    .dataframe tbody tr th {\n        vertical-align: top;\n    }\n\n    .dataframe thead th {\n        text-align: right;\n    }\n</style>\n<table border=\"1\" class=\"dataframe\">\n  <thead>\n    <tr style=\"text-align: right;\">\n      <th></th>\n      <th>property_type</th>\n      <th>surface_total_in_m2</th>\n      <th>borough</th>\n      <th>lat</th>\n      <th>lon</th>\n    </tr>\n  </thead>\n  <tbody>\n    <tr>\n      <th>0</th>\n      <td>house</td>\n      <td>NaN</td>\n      <td>Álvaro Obregón</td>\n      <td>19.346749</td>\n      <td>-99.233710</td>\n    </tr>\n    <tr>\n      <th>1</th>\n      <td>apartment</td>\n      <td>NaN</td>\n      <td>Benito Juárez</td>\n      <td>19.370046</td>\n      <td>-99.146155</td>\n    </tr>\n    <tr>\n      <th>2</th>\n      <td>apartment</td>\n      <td>NaN</td>\n      <td>Iztacalco</td>\n      <td>19.410307</td>\n      <td>-99.065399</td>\n    </tr>\n    <tr>\n      <th>3</th>\n      <td>apartment</td>\n      <td>NaN</td>\n      <td>Álvaro Obregón</td>\n      <td>19.366302</td>\n      <td>-99.193367</td>\n    </tr>\n    <tr>\n      <th>4</th>\n      <td>apartment</td>\n      <td>49.0</td>\n      <td>Tláhuac</td>\n      <td>19.299023</td>\n      <td>-99.043647</td>\n    </tr>\n    <tr>\n      <th>...</th>\n      <td>...</td>\n      <td>...</td>\n      <td>...</td>\n      <td>...</td>\n      <td>...</td>\n    </tr>\n    <tr>\n      <th>17053</th>\n      <td>apartment</td>\n      <td>238.0</td>\n      <td>Cuajimalpa de Morelos</td>\n      <td>19.360375</td>\n      <td>-99.270396</td>\n    </tr>\n    <tr>\n      <th>17054</th>\n      <td>apartment</td>\n      <td>143.0</td>\n      <td>Benito Juárez</td>\n      <td>19.394358</td>\n      <td>-99.177444</td>\n    </tr>\n    <tr>\n      <th>17055</th>\n      <td>house</td>\n      <td>60.0</td>\n      <td>Benito Juárez</td>\n      <td>19.358803</td>\n      <td>-99.160426</td>\n    </tr>\n    <tr>\n      <th>17056</th>\n      <td>house</td>\n      <td>NaN</td>\n      <td>Álvaro Obregón</td>\n      <td>19.347357</td>\n      <td>-99.254654</td>\n    </tr>\n    <tr>\n      <th>17057</th>\n      <td>apartment</td>\n      <td>NaN</td>\n      <td>Benito Juárez</td>\n      <td>19.403014</td>\n      <td>-99.158422</td>\n    </tr>\n  </tbody>\n</table>\n<p>17058 rows × 5 columns</p>\n</div>"
     },
     "execution_count": 27,
     "metadata": {},
     "output_type": "execute_result"
    }
   ],
   "source": [
    "components['X_train']"
   ],
   "metadata": {
    "collapsed": false,
    "ExecuteTime": {
     "end_time": "2023-12-16T21:34:55.099974Z",
     "start_time": "2023-12-16T21:34:55.080172Z"
    }
   }
  },
  {
   "cell_type": "code",
   "execution_count": 28,
   "outputs": [],
   "source": [
    "# Loading the pipeline\n",
    "preprocessor = Preprocessor()\n",
    "preprocessor_pipeline = preprocessor.load_preprocessor('../serials/preprocessor_1.pkl')"
   ],
   "metadata": {
    "collapsed": false,
    "ExecuteTime": {
     "end_time": "2023-12-16T21:34:55.499418Z",
     "start_time": "2023-12-16T21:34:55.485690Z"
    }
   }
  },
  {
   "cell_type": "code",
   "execution_count": 29,
   "outputs": [],
   "source": [
    "ml_work_flow = MLWorkflow()\n",
    "# Build the full pipeline\n",
    "regressor_full_pipeline = ml_work_flow.build_modelling_pipeline(preprocessor_pipeline, 'linear_reg',LinearRegression())"
   ],
   "metadata": {
    "collapsed": false,
    "ExecuteTime": {
     "end_time": "2023-12-16T21:34:55.971777Z",
     "start_time": "2023-12-16T21:34:55.963673Z"
    }
   }
  },
  {
   "cell_type": "code",
   "execution_count": 30,
   "outputs": [
    {
     "data": {
      "text/plain": "1.1004493018584096"
     },
     "execution_count": 30,
     "metadata": {},
     "output_type": "execute_result"
    }
   ],
   "source": [
    "MLWorkflow.return_loss(regressor_full_pipeline, components, process='train')"
   ],
   "metadata": {
    "collapsed": false,
    "ExecuteTime": {
     "end_time": "2023-12-16T21:34:56.607693Z",
     "start_time": "2023-12-16T21:34:56.401023Z"
    }
   }
  },
  {
   "cell_type": "code",
   "execution_count": 31,
   "outputs": [
    {
     "data": {
      "text/plain": "0.08732369937564363"
     },
     "execution_count": 31,
     "metadata": {},
     "output_type": "execute_result"
    }
   ],
   "source": [
    "decision_trees_full_pipeline = ml_work_flow.build_modelling_pipeline(preprocessor_pipeline, 'decision_tree',DecisionTreeRegressor())\n",
    "# returning training loss\n",
    "MLWorkflow.return_loss(decision_trees_full_pipeline, components, process='train')"
   ],
   "metadata": {
    "collapsed": false,
    "ExecuteTime": {
     "end_time": "2023-12-16T21:34:58.403255Z",
     "start_time": "2023-12-16T21:34:58.169711Z"
    }
   }
  },
  {
   "cell_type": "markdown",
   "source": [
    "The mean squared error is too small, and this is a good indicator, but it is much more likely that the model has overfit the data. We don't want to yet touch the test set, until we launch a model we are confident about, so we need to split our training set into training and validation set,to perform hyperparameter tuning or fine tuning in those models choosen. We will use several tuning methods, such as cross validation score, GridSearch or RandomizedSearchCV."
   ],
   "metadata": {
    "collapsed": false
   }
  },
  {
   "cell_type": "code",
   "execution_count": 32,
   "outputs": [],
   "source": [
    "#Seeing the results of cross validation score, to understand more closely the insights\n",
    "from src.modelling import Tuner\n",
    "\n",
    "cross_val_score_decision_trees = MLWorkflow.cross_validation(decision_trees_full_pipeline,\n",
    "                                         components['X_train'],\n",
    "                                         components['y_train'])"
   ],
   "metadata": {
    "collapsed": false,
    "ExecuteTime": {
     "end_time": "2023-12-16T21:35:02.628964Z",
     "start_time": "2023-12-16T21:35:00.567724Z"
    }
   }
  },
  {
   "cell_type": "code",
   "execution_count": 33,
   "outputs": [
    {
     "data": {
      "text/plain": "count    10.000000\nmean      0.756770\nstd       0.023974\nmin       0.716744\n25%       0.738201\n50%       0.762332\n75%       0.775335\nmax       0.786310\ndtype: float64"
     },
     "execution_count": 33,
     "metadata": {},
     "output_type": "execute_result"
    }
   ],
   "source": [
    "# checking the results (counting 10 folds)\n",
    "pd.Series(cross_val_score_decision_trees).describe()"
   ],
   "metadata": {
    "collapsed": false,
    "ExecuteTime": {
     "end_time": "2023-12-16T21:35:02.675375Z",
     "start_time": "2023-12-16T21:35:02.570697Z"
    }
   }
  },
  {
   "cell_type": "markdown",
   "source": [
    "Results obtained, indicate there is clearly a case of overfitting, with a very good training mse of 0.0005 and a validation mse of 0.05 in average. Let's see what has happened in case of Linear Regression, since in general Decision trees are models, that are easily prone to overfit.Let's try Linear Regression approach, in which we had a training score of 0.07"
   ],
   "metadata": {
    "collapsed": false
   }
  },
  {
   "cell_type": "code",
   "execution_count": 34,
   "outputs": [],
   "source": [
    "cross_val_score_linear_regression = Tuner.cross_validation(regressor_full_pipeline,\n",
    "                                                           components['X_train'],\n",
    "                                                           components['y_train'])"
   ],
   "metadata": {
    "collapsed": false,
    "ExecuteTime": {
     "end_time": "2023-12-16T21:35:28.340003Z",
     "start_time": "2023-12-16T21:35:25.859155Z"
    }
   }
  },
  {
   "cell_type": "code",
   "execution_count": 35,
   "outputs": [
    {
     "data": {
      "text/plain": "count    10.000000\nmean      1.052482\nstd       0.018824\nmin       1.019067\n25%       1.046264\n50%       1.053849\n75%       1.063719\nmax       1.082322\ndtype: float64"
     },
     "execution_count": 35,
     "metadata": {},
     "output_type": "execute_result"
    }
   ],
   "source": [
    "pd.Series(cross_val_score_linear_regression).describe()"
   ],
   "metadata": {
    "collapsed": false,
    "ExecuteTime": {
     "end_time": "2023-12-16T21:35:28.350163Z",
     "start_time": "2023-12-16T21:35:28.075728Z"
    }
   }
  },
  {
   "cell_type": "markdown",
   "source": [
    "Surprised by the linear regression performance, we can see that it performs way better, with a mean validation score being 0.08, very near to 0.07. However, we will have to further improve the models, by fine-tuning them. Now we can also take into consideration using Random Forest, an ensemble model, made of several decision trees and the final score, is nothing but the mean score of all these decision trees scores. Ensemble models are less likely than decision trees to overfit, so let's test this in case of Random Forest."
   ],
   "metadata": {
    "collapsed": false
   }
  },
  {
   "cell_type": "code",
   "execution_count": 36,
   "outputs": [],
   "source": [
    "random_forest_full_pipeline = ml_work_flow.build_modelling_pipeline(preprocessor_pipeline,\n",
    "                                                                    'random_forest',\n",
    "                                                                    RandomForestRegressor(random_state=42))"
   ],
   "metadata": {
    "collapsed": false,
    "ExecuteTime": {
     "end_time": "2023-12-16T21:35:30.079248Z",
     "start_time": "2023-12-16T21:35:30.046732Z"
    }
   }
  },
  {
   "cell_type": "code",
   "execution_count": 37,
   "outputs": [
    {
     "data": {
      "text/plain": "0.13127965846746426"
     },
     "execution_count": 37,
     "metadata": {},
     "output_type": "execute_result"
    }
   ],
   "source": [
    "MLWorkflow.return_loss(random_forest_full_pipeline, components, process='train')"
   ],
   "metadata": {
    "collapsed": false,
    "ExecuteTime": {
     "end_time": "2023-12-16T21:35:34.626343Z",
     "start_time": "2023-12-16T21:35:31.403731Z"
    }
   }
  },
  {
   "cell_type": "code",
   "execution_count": 38,
   "outputs": [],
   "source": [
    "cross_val_score_random_forest = Tuner.cross_validation(random_forest_full_pipeline,\n",
    "                                                           components['X_train'],\n",
    "                                                           components['y_train'])"
   ],
   "metadata": {
    "collapsed": false,
    "ExecuteTime": {
     "end_time": "2023-12-16T21:36:00.023888Z",
     "start_time": "2023-12-16T21:35:36.313383Z"
    }
   }
  },
  {
   "cell_type": "code",
   "execution_count": 39,
   "outputs": [
    {
     "data": {
      "text/plain": "count    10.000000\nmean      0.658400\nstd       0.020185\nmin       0.629453\n25%       0.644441\n50%       0.655686\n75%       0.668090\nmax       0.699574\ndtype: float64"
     },
     "execution_count": 39,
     "metadata": {},
     "output_type": "execute_result"
    }
   ],
   "source": [
    "pd.Series(cross_val_score_random_forest).describe()"
   ],
   "metadata": {
    "collapsed": false,
    "ExecuteTime": {
     "end_time": "2023-12-16T21:36:00.032864Z",
     "start_time": "2023-12-16T21:36:00.015266Z"
    }
   }
  },
  {
   "cell_type": "code",
   "execution_count": 17,
   "outputs": [],
   "source": [
    "from src.modelling import RANDOM_FOREST_GS"
   ],
   "metadata": {
    "collapsed": false,
    "ExecuteTime": {
     "end_time": "2023-12-16T17:38:21.791619Z",
     "start_time": "2023-12-16T17:38:21.595705Z"
    }
   }
  },
  {
   "cell_type": "code",
   "execution_count": 18,
   "outputs": [],
   "source": [
    "tuner = Tuner(random_forest_full_pipeline, RANDOM_FOREST_GS)"
   ],
   "metadata": {
    "collapsed": false,
    "ExecuteTime": {
     "end_time": "2023-12-16T17:38:22.231877Z",
     "start_time": "2023-12-16T17:38:22.225030Z"
    }
   }
  },
  {
   "cell_type": "code",
   "execution_count": 19,
   "outputs": [],
   "source": [
    "results_grid_search = tuner.grid_search_tune(components['X_train'],\n",
    "                       components['y_train'])"
   ],
   "metadata": {
    "collapsed": false,
    "ExecuteTime": {
     "end_time": "2023-12-16T17:58:12.736075Z",
     "start_time": "2023-12-16T17:38:23.639470Z"
    }
   }
  },
  {
   "cell_type": "code",
   "execution_count": 20,
   "outputs": [
    {
     "data": {
      "text/plain": "({'preprocessing__svd__n_components': 10,\n  'preprocessing__transformer__lat_lon__cluster_similarity__n_clusters': 15,\n  'random_forest__max_features': 6},\n     mean_fit_time  std_fit_time  mean_score_time  std_score_time  \\\n 42       5.138352      0.050913         0.066325        0.000555   \n 43       6.658514      0.113043         0.065792        0.000161   \n 44       8.218420      0.245496         0.065808        0.000632   \n 36       5.136039      0.064560         0.065526        0.000631   \n 38       6.641528      0.122404         0.065433        0.000276   \n 37       6.645819      0.110891         0.065757        0.000681   \n 32       5.246269      0.100850         0.066622        0.002336   \n 31       5.149628      0.142851         0.065728        0.001808   \n 30       5.198498      0.148467         0.064928        0.000516   \n 39       5.068030      0.070109         0.084922        0.042096   \n 25       5.052405      0.046765         0.069105        0.009095   \n 26       6.584239      0.133538         0.064482        0.000575   \n 40       6.556408      0.065532         0.065063        0.001690   \n 41       8.114426      0.169081         0.065456        0.001917   \n 24       3.599148      0.074991         0.065866        0.003284   \n 35       6.515106      0.210399         0.063923        0.000757   \n 34       6.413068      0.132655         0.063657        0.000708   \n 17       6.425818      0.130299         0.064127        0.000744   \n 33       5.013966      0.105327         0.064308        0.000486   \n 16       5.090112      0.154205         0.065205        0.001232   \n 15       3.544339      0.066053         0.065196        0.002896   \n 27       5.046639      0.200803         0.066331        0.004664   \n 28       5.069484      0.105632         0.064688        0.001288   \n 29       5.014493      0.132480         0.064522        0.001961   \n 6        3.513183      0.085009         0.063996        0.000926   \n 8        4.246886      0.129094         0.064610        0.001725   \n 7        4.426489      0.236991         0.066020        0.002117   \n 18       3.578841      0.157220         0.065819        0.001608   \n 19       4.912960      0.097848         0.064661        0.001547   \n 23       6.396144      0.162890         0.064161        0.001238   \n 21       3.417147      0.037251         0.063812        0.000445   \n 22       4.875898      0.063990         0.063625        0.000257   \n 20       6.492299      0.219776         0.065557        0.004845   \n 9        3.521008      0.046686         0.064398        0.001523   \n 12       3.668136      0.262232         0.068305        0.005112   \n 13       4.914600      0.040769         0.063404        0.000526   \n 10       4.943198      0.107284         0.063956        0.002170   \n 14       6.422239      0.111706         0.075324        0.023417   \n 11       6.478788      0.150888         0.063278        0.001835   \n 0        3.667392      0.169855         0.065322        0.002332   \n 3        3.529443      0.063407         0.064430        0.001714   \n 1        4.286649      0.088792         0.064667        0.002537   \n 2        4.350007      0.138778         0.065439        0.002697   \n 5        4.428924      0.209125         0.069653        0.003978   \n 4        4.268885      0.117729         0.064941        0.002882   \n \n    param_preprocessing__svd__n_components  \\\n 42                                     10   \n 43                                     10   \n 44                                     10   \n 36                                      8   \n 38                                      8   \n 37                                      8   \n 32                                      6   \n 31                                      6   \n 30                                      6   \n 39                                     10   \n 25                                     10   \n 26                                     10   \n 40                                     10   \n 41                                     10   \n 24                                     10   \n 35                                      8   \n 34                                      8   \n 17                                      8   \n 33                                      8   \n 16                                      8   \n 15                                      8   \n 27                                      6   \n 28                                      6   \n 29                                      6   \n 6                                       5   \n 8                                       5   \n 7                                       5   \n 18                                     10   \n 19                                     10   \n 23                                     10   \n 21                                     10   \n 22                                     10   \n 20                                     10   \n 9                                       8   \n 12                                      8   \n 13                                      8   \n 10                                      8   \n 14                                      8   \n 11                                      8   \n 0                                       5   \n 3                                       5   \n 1                                       5   \n 2                                       5   \n 5                                       5   \n 4                                       5   \n \n    param_preprocessing__transformer__lat_lon__cluster_similarity__n_clusters  \\\n 42                                                 15                          \n 43                                                 15                          \n 44                                                 15                          \n 36                                                 15                          \n 38                                                 15                          \n 37                                                 15                          \n 32                                                 15                          \n 31                                                 15                          \n 30                                                 15                          \n 39                                                 10                          \n 25                                                 10                          \n 26                                                 10                          \n 40                                                 10                          \n 41                                                 10                          \n 24                                                 10                          \n 35                                                 10                          \n 34                                                 10                          \n 17                                                 10                          \n 33                                                 10                          \n 16                                                 10                          \n 15                                                 10                          \n 27                                                 10                          \n 28                                                 10                          \n 29                                                 10                          \n 6                                                  10                          \n 8                                                  10                          \n 7                                                  10                          \n 18                                                  5                          \n 19                                                  5                          \n 23                                                  8                          \n 21                                                  8                          \n 22                                                  8                          \n 20                                                  5                          \n 9                                                   5                          \n 12                                                  8                          \n 13                                                  8                          \n 10                                                  5                          \n 14                                                  8                          \n 11                                                  5                          \n 0                                                   5                          \n 3                                                   8                          \n 1                                                   5                          \n 2                                                   5                          \n 5                                                   8                          \n 4                                                   8                          \n \n    param_random_forest__max_features  \\\n 42                                 6   \n 43                                 8   \n 44                                10   \n 36                                 6   \n 38                                10   \n 37                                 8   \n 32                                10   \n 31                                 8   \n 30                                 6   \n 39                                 6   \n 25                                 6   \n 26                                 8   \n 40                                 8   \n 41                                10   \n 24                                 4   \n 35                                10   \n 34                                 8   \n 17                                 8   \n 33                                 6   \n 16                                 6   \n 15                                 4   \n 27                                 6   \n 28                                 8   \n 29                                10   \n 6                                  4   \n 8                                  8   \n 7                                  6   \n 18                                 4   \n 19                                 6   \n 23                                 8   \n 21                                 4   \n 22                                 6   \n 20                                 8   \n 9                                  4   \n 12                                 4   \n 13                                 6   \n 10                                 6   \n 14                                 8   \n 11                                 8   \n 0                                  4   \n 3                                  4   \n 1                                  6   \n 2                                  8   \n 5                                  8   \n 4                                  6   \n \n                                                params  split0_test_score  \\\n 42  {'preprocessing__svd__n_components': 10, 'prep...          -0.048624   \n 43  {'preprocessing__svd__n_components': 10, 'prep...          -0.048760   \n 44  {'preprocessing__svd__n_components': 10, 'prep...          -0.048844   \n 36  {'preprocessing__svd__n_components': 8, 'prepr...          -0.048919   \n 38  {'preprocessing__svd__n_components': 8, 'prepr...          -0.049151   \n 37  {'preprocessing__svd__n_components': 8, 'prepr...          -0.049151   \n 32  {'preprocessing__svd__n_components': 6, 'prepr...          -0.049939   \n 31  {'preprocessing__svd__n_components': 6, 'prepr...          -0.049939   \n 30  {'preprocessing__svd__n_components': 6, 'prepr...          -0.049939   \n 39  {'preprocessing__svd__n_components': 10, 'prep...          -0.049388   \n 25  {'preprocessing__svd__n_components': 10, 'prep...          -0.049388   \n 26  {'preprocessing__svd__n_components': 10, 'prep...          -0.049249   \n 40  {'preprocessing__svd__n_components': 10, 'prep...          -0.049249   \n 41  {'preprocessing__svd__n_components': 10, 'prep...          -0.049461   \n 24  {'preprocessing__svd__n_components': 10, 'prep...          -0.049418   \n 35  {'preprocessing__svd__n_components': 8, 'prepr...          -0.049887   \n 34  {'preprocessing__svd__n_components': 8, 'prepr...          -0.049887   \n 17  {'preprocessing__svd__n_components': 8, 'prepr...          -0.049887   \n 33  {'preprocessing__svd__n_components': 8, 'prepr...          -0.049926   \n 16  {'preprocessing__svd__n_components': 8, 'prepr...          -0.049926   \n 15  {'preprocessing__svd__n_components': 8, 'prepr...          -0.049869   \n 27  {'preprocessing__svd__n_components': 6, 'prepr...          -0.052580   \n 28  {'preprocessing__svd__n_components': 6, 'prepr...          -0.052580   \n 29  {'preprocessing__svd__n_components': 6, 'prepr...          -0.052580   \n 6   {'preprocessing__svd__n_components': 5, 'prepr...          -0.052862   \n 8   {'preprocessing__svd__n_components': 5, 'prepr...          -0.052953   \n 7   {'preprocessing__svd__n_components': 5, 'prepr...          -0.052953   \n 18  {'preprocessing__svd__n_components': 10, 'prep...          -0.052661   \n 19  {'preprocessing__svd__n_components': 10, 'prep...          -0.052705   \n 23  {'preprocessing__svd__n_components': 10, 'prep...          -0.052960   \n 21  {'preprocessing__svd__n_components': 10, 'prep...          -0.052945   \n 22  {'preprocessing__svd__n_components': 10, 'prep...          -0.053070   \n 20  {'preprocessing__svd__n_components': 10, 'prep...          -0.052883   \n 9   {'preprocessing__svd__n_components': 8, 'prepr...          -0.052989   \n 12  {'preprocessing__svd__n_components': 8, 'prepr...          -0.053107   \n 13  {'preprocessing__svd__n_components': 8, 'prepr...          -0.053171   \n 10  {'preprocessing__svd__n_components': 8, 'prepr...          -0.053066   \n 14  {'preprocessing__svd__n_components': 8, 'prepr...          -0.053349   \n 11  {'preprocessing__svd__n_components': 8, 'prepr...          -0.052997   \n 0   {'preprocessing__svd__n_components': 5, 'prepr...          -0.053326   \n 3   {'preprocessing__svd__n_components': 5, 'prepr...          -0.053442   \n 1   {'preprocessing__svd__n_components': 5, 'prepr...          -0.053354   \n 2   {'preprocessing__svd__n_components': 5, 'prepr...          -0.053354   \n 5   {'preprocessing__svd__n_components': 5, 'prepr...          -0.053545   \n 4   {'preprocessing__svd__n_components': 5, 'prepr...          -0.053545   \n \n     split1_test_score  split2_test_score  split3_test_score  \\\n 42          -0.047998          -0.048024          -0.046656   \n 43          -0.048154          -0.047894          -0.046712   \n 44          -0.048303          -0.048167          -0.046818   \n 36          -0.048560          -0.048257          -0.046784   \n 38          -0.048541          -0.048258          -0.047027   \n 37          -0.048541          -0.048258          -0.047027   \n 32          -0.049312          -0.048965          -0.047764   \n 31          -0.049312          -0.048965          -0.047764   \n 30          -0.049312          -0.048965          -0.047764   \n 39          -0.049221          -0.050171          -0.048529   \n 25          -0.049221          -0.050171          -0.048529   \n 26          -0.049183          -0.050244          -0.048586   \n 40          -0.049183          -0.050244          -0.048586   \n 41          -0.049121          -0.050302          -0.048612   \n 24          -0.049495          -0.050323          -0.048785   \n 35          -0.049417          -0.050483          -0.049077   \n 34          -0.049417          -0.050483          -0.049077   \n 17          -0.049417          -0.050483          -0.049077   \n 33          -0.049366          -0.050565          -0.049110   \n 16          -0.049366          -0.050565          -0.049110   \n 15          -0.049414          -0.050478          -0.049122   \n 27          -0.051606          -0.051339          -0.050841   \n 28          -0.051606          -0.051339          -0.050841   \n 29          -0.051606          -0.051339          -0.050841   \n 6           -0.051758          -0.051731          -0.050904   \n 8           -0.051927          -0.051980          -0.051027   \n 7           -0.051927          -0.051980          -0.051027   \n 18          -0.053482          -0.054628          -0.051983   \n 19          -0.053622          -0.054479          -0.051956   \n 23          -0.053272          -0.054568          -0.052123   \n 21          -0.053240          -0.054595          -0.052263   \n 22          -0.053160          -0.054648          -0.052244   \n 20          -0.053609          -0.054615          -0.052011   \n 9           -0.053734          -0.054556          -0.052133   \n 12          -0.053524          -0.054657          -0.052393   \n 13          -0.053467          -0.054562          -0.052482   \n 10          -0.053891          -0.054785          -0.052214   \n 14          -0.053657          -0.054580          -0.052525   \n 11          -0.053797          -0.054898          -0.052279   \n 0           -0.053866          -0.054995          -0.052317   \n 3           -0.053814          -0.055146          -0.052313   \n 1           -0.054002          -0.055133          -0.052281   \n 2           -0.054002          -0.055133          -0.052281   \n 5           -0.054013          -0.055164          -0.052266   \n 4           -0.054013          -0.055164          -0.052266   \n \n     split4_test_score  mean_test_score  std_test_score  rank_test_score  \n 42          -0.047304        -0.047721        0.000677                1  \n 43          -0.047448        -0.047794        0.000687                2  \n 44          -0.047524        -0.047931        0.000697                3  \n 36          -0.047722        -0.048049        0.000744                4  \n 38          -0.047626        -0.048121        0.000735                5  \n 37          -0.047626        -0.048121        0.000735                5  \n 32          -0.048399        -0.048876        0.000747                7  \n 31          -0.048399        -0.048876        0.000747                7  \n 30          -0.048399        -0.048876        0.000747                7  \n 39          -0.049315        -0.049325        0.000523               10  \n 25          -0.049315        -0.049325        0.000523               10  \n 26          -0.049461        -0.049345        0.000535               12  \n 40          -0.049461        -0.049345        0.000535               12  \n 41          -0.049596        -0.049418        0.000557               14  \n 24          -0.049555        -0.049515        0.000489               15  \n 35          -0.049620        -0.049697        0.000474               16  \n 34          -0.049620        -0.049697        0.000474               16  \n 17          -0.049620        -0.049697        0.000474               16  \n 33          -0.049538        -0.049701        0.000507               19  \n 16          -0.049538        -0.049701        0.000507               19  \n 15          -0.049744        -0.049725        0.000458               21  \n 27          -0.052109        -0.051695        0.000603               22  \n 28          -0.052109        -0.051695        0.000603               22  \n 29          -0.052109        -0.051695        0.000603               22  \n 6           -0.052531        -0.051957        0.000685               25  \n 8           -0.052723        -0.052122        0.000680               26  \n 7           -0.052723        -0.052122        0.000680               26  \n 18          -0.053042        -0.053159        0.000884               28  \n 19          -0.053149        -0.053182        0.000850               29  \n 23          -0.053153        -0.053215        0.000787               30  \n 21          -0.053162        -0.053241        0.000759               31  \n 22          -0.053091        -0.053243        0.000779               32  \n 20          -0.053321        -0.053288        0.000855               33  \n 9           -0.053326        -0.053347        0.000802               34  \n 12          -0.053370        -0.053410        0.000734               35  \n 13          -0.053548        -0.053446        0.000673               36  \n 10          -0.053550        -0.053501        0.000854               37  \n 14          -0.053447        -0.053511        0.000658               38  \n 11          -0.053682        -0.053531        0.000873               39  \n 0           -0.053652        -0.053631        0.000864               40  \n 3           -0.053591        -0.053661        0.000906               41  \n 1           -0.053577        -0.053669        0.000926               42  \n 2           -0.053577        -0.053669        0.000926               42  \n 5           -0.053592        -0.053716        0.000931               44  \n 4           -0.053592        -0.053716        0.000931               44  )"
     },
     "execution_count": 20,
     "metadata": {},
     "output_type": "execute_result"
    }
   ],
   "source": [
    "results_grid_search"
   ],
   "metadata": {
    "collapsed": false,
    "ExecuteTime": {
     "end_time": "2023-12-16T17:58:27.823039Z",
     "start_time": "2023-12-16T17:58:27.771572Z"
    }
   }
  },
  {
   "cell_type": "markdown",
   "source": [
    "When the hyperparameter space is large, there is another possibility: to use RandomizedSearchCV. Instead of trying out all possible combinations it evaluates a fixed number of combinations, selecting a random value for each hyperparameter at every iteration. We will use RandomizedSearchScore for finally tuning our random forest model and then we will get this final model."
   ],
   "metadata": {
    "collapsed": false
   }
  },
  {
   "cell_type": "code",
   "execution_count": 42,
   "outputs": [],
   "source": [
    "from src.modelling import RANDOM_FOREST_RS"
   ],
   "metadata": {
    "collapsed": false,
    "ExecuteTime": {
     "end_time": "2023-12-16T21:37:46.179971Z",
     "start_time": "2023-12-16T21:37:46.146340Z"
    }
   }
  },
  {
   "cell_type": "code",
   "execution_count": 43,
   "outputs": [],
   "source": [
    "tuner = Tuner(random_forest_full_pipeline, RANDOM_FOREST_RS)\n",
    "\n",
    "final_model = tuner.randomized_search_tune(components['X_train'],\n",
    "                                                         components['y_train'],\n",
    "                                                         model_name='random_forest',\n",
    "                                                         transformer='transformer')"
   ],
   "metadata": {
    "collapsed": false,
    "ExecuteTime": {
     "end_time": "2023-12-16T21:38:47.338099Z",
     "start_time": "2023-12-16T21:37:46.514261Z"
    }
   }
  },
  {
   "cell_type": "markdown",
   "source": [
    "We will use 2 approaches, now that we are ready to test the model's performance on the test data. First, since truncated svd yielded very good results, we will try to see in inference mode how it works, and then we will also try to create a preprocessing pipeline and perform the same steps as before, by keeping the original features, so not applying dimensionality reduction. We will do this for sakes of visualization of the highest important features in predicting the house prices."
   ],
   "metadata": {
    "collapsed": false
   }
  },
  {
   "cell_type": "code",
   "execution_count": 44,
   "outputs": [
    {
     "data": {
      "text/plain": "Pipeline(steps=[('preprocessing',\n                 Pipeline(steps=[('transformer',\n                                  ColumnTransformer(transformers=[('surface',\n                                                                   Pipeline(steps=[('imputer',\n                                                                                    SimpleImputer(strategy='median')),\n                                                                                   ('scaler',\n                                                                                    StandardScaler())]),\n                                                                   ['surface_total_in_m2']),\n                                                                  ('lat_lon',\n                                                                   Pipeline(steps=[('imputer',\n                                                                                    SimpleImputer(strategy='most_frequent')),\n                                                                                   ('cluster_similarity',\n                                                                                    ClusterSimilarity(n_cluste...\n                                                                                                      random_state=42))]),\n                                                                   ['lat',\n                                                                    'lon']),\n                                                                  ('property_borough',\n                                                                   Pipeline(steps=[('one_hot_encoder',\n                                                                                    OneHotEncoder(handle_unknown='ignore'))]),\n                                                                   ['property_type',\n                                                                    'borough'])])),\n                                 ('svd',\n                                  TruncatedSVD(n_components=45,\n                                               random_state=42))])),\n                ('random_forest',\n                 RandomForestRegressor(max_depth=10, max_features=3,\n                                       min_samples_leaf=11,\n                                       min_samples_split=12, n_estimators=40,\n                                       random_state=42))])",
      "text/html": "<style>#sk-container-id-2 {color: black;}#sk-container-id-2 pre{padding: 0;}#sk-container-id-2 div.sk-toggleable {background-color: white;}#sk-container-id-2 label.sk-toggleable__label {cursor: pointer;display: block;width: 100%;margin-bottom: 0;padding: 0.3em;box-sizing: border-box;text-align: center;}#sk-container-id-2 label.sk-toggleable__label-arrow:before {content: \"▸\";float: left;margin-right: 0.25em;color: #696969;}#sk-container-id-2 label.sk-toggleable__label-arrow:hover:before {color: black;}#sk-container-id-2 div.sk-estimator:hover label.sk-toggleable__label-arrow:before {color: black;}#sk-container-id-2 div.sk-toggleable__content {max-height: 0;max-width: 0;overflow: hidden;text-align: left;background-color: #f0f8ff;}#sk-container-id-2 div.sk-toggleable__content pre {margin: 0.2em;color: black;border-radius: 0.25em;background-color: #f0f8ff;}#sk-container-id-2 input.sk-toggleable__control:checked~div.sk-toggleable__content {max-height: 200px;max-width: 100%;overflow: auto;}#sk-container-id-2 input.sk-toggleable__control:checked~label.sk-toggleable__label-arrow:before {content: \"▾\";}#sk-container-id-2 div.sk-estimator input.sk-toggleable__control:checked~label.sk-toggleable__label {background-color: #d4ebff;}#sk-container-id-2 div.sk-label input.sk-toggleable__control:checked~label.sk-toggleable__label {background-color: #d4ebff;}#sk-container-id-2 input.sk-hidden--visually {border: 0;clip: rect(1px 1px 1px 1px);clip: rect(1px, 1px, 1px, 1px);height: 1px;margin: -1px;overflow: hidden;padding: 0;position: absolute;width: 1px;}#sk-container-id-2 div.sk-estimator {font-family: monospace;background-color: #f0f8ff;border: 1px dotted black;border-radius: 0.25em;box-sizing: border-box;margin-bottom: 0.5em;}#sk-container-id-2 div.sk-estimator:hover {background-color: #d4ebff;}#sk-container-id-2 div.sk-parallel-item::after {content: \"\";width: 100%;border-bottom: 1px solid gray;flex-grow: 1;}#sk-container-id-2 div.sk-label:hover label.sk-toggleable__label {background-color: #d4ebff;}#sk-container-id-2 div.sk-serial::before {content: \"\";position: absolute;border-left: 1px solid gray;box-sizing: border-box;top: 0;bottom: 0;left: 50%;z-index: 0;}#sk-container-id-2 div.sk-serial {display: flex;flex-direction: column;align-items: center;background-color: white;padding-right: 0.2em;padding-left: 0.2em;position: relative;}#sk-container-id-2 div.sk-item {position: relative;z-index: 1;}#sk-container-id-2 div.sk-parallel {display: flex;align-items: stretch;justify-content: center;background-color: white;position: relative;}#sk-container-id-2 div.sk-item::before, #sk-container-id-2 div.sk-parallel-item::before {content: \"\";position: absolute;border-left: 1px solid gray;box-sizing: border-box;top: 0;bottom: 0;left: 50%;z-index: -1;}#sk-container-id-2 div.sk-parallel-item {display: flex;flex-direction: column;z-index: 1;position: relative;background-color: white;}#sk-container-id-2 div.sk-parallel-item:first-child::after {align-self: flex-end;width: 50%;}#sk-container-id-2 div.sk-parallel-item:last-child::after {align-self: flex-start;width: 50%;}#sk-container-id-2 div.sk-parallel-item:only-child::after {width: 0;}#sk-container-id-2 div.sk-dashed-wrapped {border: 1px dashed gray;margin: 0 0.4em 0.5em 0.4em;box-sizing: border-box;padding-bottom: 0.4em;background-color: white;}#sk-container-id-2 div.sk-label label {font-family: monospace;font-weight: bold;display: inline-block;line-height: 1.2em;}#sk-container-id-2 div.sk-label-container {text-align: center;}#sk-container-id-2 div.sk-container {/* jupyter's `normalize.less` sets `[hidden] { display: none; }` but bootstrap.min.css set `[hidden] { display: none !important; }` so we also need the `!important` here to be able to override the default hidden behavior on the sphinx rendered scikit-learn.org. See: https://github.com/scikit-learn/scikit-learn/issues/21755 */display: inline-block !important;position: relative;}#sk-container-id-2 div.sk-text-repr-fallback {display: none;}</style><div id=\"sk-container-id-2\" class=\"sk-top-container\"><div class=\"sk-text-repr-fallback\"><pre>Pipeline(steps=[(&#x27;preprocessing&#x27;,\n                 Pipeline(steps=[(&#x27;transformer&#x27;,\n                                  ColumnTransformer(transformers=[(&#x27;surface&#x27;,\n                                                                   Pipeline(steps=[(&#x27;imputer&#x27;,\n                                                                                    SimpleImputer(strategy=&#x27;median&#x27;)),\n                                                                                   (&#x27;scaler&#x27;,\n                                                                                    StandardScaler())]),\n                                                                   [&#x27;surface_total_in_m2&#x27;]),\n                                                                  (&#x27;lat_lon&#x27;,\n                                                                   Pipeline(steps=[(&#x27;imputer&#x27;,\n                                                                                    SimpleImputer(strategy=&#x27;most_frequent&#x27;)),\n                                                                                   (&#x27;cluster_similarity&#x27;,\n                                                                                    ClusterSimilarity(n_cluste...\n                                                                                                      random_state=42))]),\n                                                                   [&#x27;lat&#x27;,\n                                                                    &#x27;lon&#x27;]),\n                                                                  (&#x27;property_borough&#x27;,\n                                                                   Pipeline(steps=[(&#x27;one_hot_encoder&#x27;,\n                                                                                    OneHotEncoder(handle_unknown=&#x27;ignore&#x27;))]),\n                                                                   [&#x27;property_type&#x27;,\n                                                                    &#x27;borough&#x27;])])),\n                                 (&#x27;svd&#x27;,\n                                  TruncatedSVD(n_components=45,\n                                               random_state=42))])),\n                (&#x27;random_forest&#x27;,\n                 RandomForestRegressor(max_depth=10, max_features=3,\n                                       min_samples_leaf=11,\n                                       min_samples_split=12, n_estimators=40,\n                                       random_state=42))])</pre><b>In a Jupyter environment, please rerun this cell to show the HTML representation or trust the notebook. <br />On GitHub, the HTML representation is unable to render, please try loading this page with nbviewer.org.</b></div><div class=\"sk-container\" hidden><div class=\"sk-item sk-dashed-wrapped\"><div class=\"sk-label-container\"><div class=\"sk-label sk-toggleable\"><input class=\"sk-toggleable__control sk-hidden--visually\" id=\"sk-estimator-id-14\" type=\"checkbox\" ><label for=\"sk-estimator-id-14\" class=\"sk-toggleable__label sk-toggleable__label-arrow\">Pipeline</label><div class=\"sk-toggleable__content\"><pre>Pipeline(steps=[(&#x27;preprocessing&#x27;,\n                 Pipeline(steps=[(&#x27;transformer&#x27;,\n                                  ColumnTransformer(transformers=[(&#x27;surface&#x27;,\n                                                                   Pipeline(steps=[(&#x27;imputer&#x27;,\n                                                                                    SimpleImputer(strategy=&#x27;median&#x27;)),\n                                                                                   (&#x27;scaler&#x27;,\n                                                                                    StandardScaler())]),\n                                                                   [&#x27;surface_total_in_m2&#x27;]),\n                                                                  (&#x27;lat_lon&#x27;,\n                                                                   Pipeline(steps=[(&#x27;imputer&#x27;,\n                                                                                    SimpleImputer(strategy=&#x27;most_frequent&#x27;)),\n                                                                                   (&#x27;cluster_similarity&#x27;,\n                                                                                    ClusterSimilarity(n_cluste...\n                                                                                                      random_state=42))]),\n                                                                   [&#x27;lat&#x27;,\n                                                                    &#x27;lon&#x27;]),\n                                                                  (&#x27;property_borough&#x27;,\n                                                                   Pipeline(steps=[(&#x27;one_hot_encoder&#x27;,\n                                                                                    OneHotEncoder(handle_unknown=&#x27;ignore&#x27;))]),\n                                                                   [&#x27;property_type&#x27;,\n                                                                    &#x27;borough&#x27;])])),\n                                 (&#x27;svd&#x27;,\n                                  TruncatedSVD(n_components=45,\n                                               random_state=42))])),\n                (&#x27;random_forest&#x27;,\n                 RandomForestRegressor(max_depth=10, max_features=3,\n                                       min_samples_leaf=11,\n                                       min_samples_split=12, n_estimators=40,\n                                       random_state=42))])</pre></div></div></div><div class=\"sk-serial\"><div class=\"sk-item\"><div class=\"sk-label-container\"><div class=\"sk-label sk-toggleable\"><input class=\"sk-toggleable__control sk-hidden--visually\" id=\"sk-estimator-id-15\" type=\"checkbox\" ><label for=\"sk-estimator-id-15\" class=\"sk-toggleable__label sk-toggleable__label-arrow\">preprocessing: Pipeline</label><div class=\"sk-toggleable__content\"><pre>Pipeline(steps=[(&#x27;transformer&#x27;,\n                 ColumnTransformer(transformers=[(&#x27;surface&#x27;,\n                                                  Pipeline(steps=[(&#x27;imputer&#x27;,\n                                                                   SimpleImputer(strategy=&#x27;median&#x27;)),\n                                                                  (&#x27;scaler&#x27;,\n                                                                   StandardScaler())]),\n                                                  [&#x27;surface_total_in_m2&#x27;]),\n                                                 (&#x27;lat_lon&#x27;,\n                                                  Pipeline(steps=[(&#x27;imputer&#x27;,\n                                                                   SimpleImputer(strategy=&#x27;most_frequent&#x27;)),\n                                                                  (&#x27;cluster_similarity&#x27;,\n                                                                   ClusterSimilarity(n_clusters=42,\n                                                                                     random_state=42))]),\n                                                  [&#x27;lat&#x27;, &#x27;lon&#x27;]),\n                                                 (&#x27;property_borough&#x27;,\n                                                  Pipeline(steps=[(&#x27;one_hot_encoder&#x27;,\n                                                                   OneHotEncoder(handle_unknown=&#x27;ignore&#x27;))]),\n                                                  [&#x27;property_type&#x27;,\n                                                   &#x27;borough&#x27;])])),\n                (&#x27;svd&#x27;, TruncatedSVD(n_components=45, random_state=42))])</pre></div></div></div><div class=\"sk-serial\"><div class=\"sk-item sk-dashed-wrapped\"><div class=\"sk-label-container\"><div class=\"sk-label sk-toggleable\"><input class=\"sk-toggleable__control sk-hidden--visually\" id=\"sk-estimator-id-16\" type=\"checkbox\" ><label for=\"sk-estimator-id-16\" class=\"sk-toggleable__label sk-toggleable__label-arrow\">transformer: ColumnTransformer</label><div class=\"sk-toggleable__content\"><pre>ColumnTransformer(transformers=[(&#x27;surface&#x27;,\n                                 Pipeline(steps=[(&#x27;imputer&#x27;,\n                                                  SimpleImputer(strategy=&#x27;median&#x27;)),\n                                                 (&#x27;scaler&#x27;, StandardScaler())]),\n                                 [&#x27;surface_total_in_m2&#x27;]),\n                                (&#x27;lat_lon&#x27;,\n                                 Pipeline(steps=[(&#x27;imputer&#x27;,\n                                                  SimpleImputer(strategy=&#x27;most_frequent&#x27;)),\n                                                 (&#x27;cluster_similarity&#x27;,\n                                                  ClusterSimilarity(n_clusters=42,\n                                                                    random_state=42))]),\n                                 [&#x27;lat&#x27;, &#x27;lon&#x27;]),\n                                (&#x27;property_borough&#x27;,\n                                 Pipeline(steps=[(&#x27;one_hot_encoder&#x27;,\n                                                  OneHotEncoder(handle_unknown=&#x27;ignore&#x27;))]),\n                                 [&#x27;property_type&#x27;, &#x27;borough&#x27;])])</pre></div></div></div><div class=\"sk-parallel\"><div class=\"sk-parallel-item\"><div class=\"sk-item\"><div class=\"sk-label-container\"><div class=\"sk-label sk-toggleable\"><input class=\"sk-toggleable__control sk-hidden--visually\" id=\"sk-estimator-id-17\" type=\"checkbox\" ><label for=\"sk-estimator-id-17\" class=\"sk-toggleable__label sk-toggleable__label-arrow\">surface</label><div class=\"sk-toggleable__content\"><pre>[&#x27;surface_total_in_m2&#x27;]</pre></div></div></div><div class=\"sk-serial\"><div class=\"sk-item\"><div class=\"sk-serial\"><div class=\"sk-item\"><div class=\"sk-estimator sk-toggleable\"><input class=\"sk-toggleable__control sk-hidden--visually\" id=\"sk-estimator-id-18\" type=\"checkbox\" ><label for=\"sk-estimator-id-18\" class=\"sk-toggleable__label sk-toggleable__label-arrow\">SimpleImputer</label><div class=\"sk-toggleable__content\"><pre>SimpleImputer(strategy=&#x27;median&#x27;)</pre></div></div></div><div class=\"sk-item\"><div class=\"sk-estimator sk-toggleable\"><input class=\"sk-toggleable__control sk-hidden--visually\" id=\"sk-estimator-id-19\" type=\"checkbox\" ><label for=\"sk-estimator-id-19\" class=\"sk-toggleable__label sk-toggleable__label-arrow\">StandardScaler</label><div class=\"sk-toggleable__content\"><pre>StandardScaler()</pre></div></div></div></div></div></div></div></div><div class=\"sk-parallel-item\"><div class=\"sk-item\"><div class=\"sk-label-container\"><div class=\"sk-label sk-toggleable\"><input class=\"sk-toggleable__control sk-hidden--visually\" id=\"sk-estimator-id-20\" type=\"checkbox\" ><label for=\"sk-estimator-id-20\" class=\"sk-toggleable__label sk-toggleable__label-arrow\">lat_lon</label><div class=\"sk-toggleable__content\"><pre>[&#x27;lat&#x27;, &#x27;lon&#x27;]</pre></div></div></div><div class=\"sk-serial\"><div class=\"sk-item\"><div class=\"sk-serial\"><div class=\"sk-item\"><div class=\"sk-estimator sk-toggleable\"><input class=\"sk-toggleable__control sk-hidden--visually\" id=\"sk-estimator-id-21\" type=\"checkbox\" ><label for=\"sk-estimator-id-21\" class=\"sk-toggleable__label sk-toggleable__label-arrow\">SimpleImputer</label><div class=\"sk-toggleable__content\"><pre>SimpleImputer(strategy=&#x27;most_frequent&#x27;)</pre></div></div></div><div class=\"sk-item\"><div class=\"sk-estimator sk-toggleable\"><input class=\"sk-toggleable__control sk-hidden--visually\" id=\"sk-estimator-id-22\" type=\"checkbox\" ><label for=\"sk-estimator-id-22\" class=\"sk-toggleable__label sk-toggleable__label-arrow\">ClusterSimilarity</label><div class=\"sk-toggleable__content\"><pre>ClusterSimilarity(n_clusters=42, random_state=42)</pre></div></div></div></div></div></div></div></div><div class=\"sk-parallel-item\"><div class=\"sk-item\"><div class=\"sk-label-container\"><div class=\"sk-label sk-toggleable\"><input class=\"sk-toggleable__control sk-hidden--visually\" id=\"sk-estimator-id-23\" type=\"checkbox\" ><label for=\"sk-estimator-id-23\" class=\"sk-toggleable__label sk-toggleable__label-arrow\">property_borough</label><div class=\"sk-toggleable__content\"><pre>[&#x27;property_type&#x27;, &#x27;borough&#x27;]</pre></div></div></div><div class=\"sk-serial\"><div class=\"sk-item\"><div class=\"sk-serial\"><div class=\"sk-item\"><div class=\"sk-estimator sk-toggleable\"><input class=\"sk-toggleable__control sk-hidden--visually\" id=\"sk-estimator-id-24\" type=\"checkbox\" ><label for=\"sk-estimator-id-24\" class=\"sk-toggleable__label sk-toggleable__label-arrow\">OneHotEncoder</label><div class=\"sk-toggleable__content\"><pre>OneHotEncoder(handle_unknown=&#x27;ignore&#x27;)</pre></div></div></div></div></div></div></div></div></div></div><div class=\"sk-item\"><div class=\"sk-estimator sk-toggleable\"><input class=\"sk-toggleable__control sk-hidden--visually\" id=\"sk-estimator-id-25\" type=\"checkbox\" ><label for=\"sk-estimator-id-25\" class=\"sk-toggleable__label sk-toggleable__label-arrow\">TruncatedSVD</label><div class=\"sk-toggleable__content\"><pre>TruncatedSVD(n_components=45, random_state=42)</pre></div></div></div></div></div><div class=\"sk-item\"><div class=\"sk-estimator sk-toggleable\"><input class=\"sk-toggleable__control sk-hidden--visually\" id=\"sk-estimator-id-26\" type=\"checkbox\" ><label for=\"sk-estimator-id-26\" class=\"sk-toggleable__label sk-toggleable__label-arrow\">RandomForestRegressor</label><div class=\"sk-toggleable__content\"><pre>RandomForestRegressor(max_depth=10, max_features=3, min_samples_leaf=11,\n                      min_samples_split=12, n_estimators=40, random_state=42)</pre></div></div></div></div></div></div></div>"
     },
     "execution_count": 44,
     "metadata": {},
     "output_type": "execute_result"
    }
   ],
   "source": [
    "final_model #the final pipeline"
   ],
   "metadata": {
    "collapsed": false,
    "ExecuteTime": {
     "end_time": "2023-12-16T21:38:50.061779Z",
     "start_time": "2023-12-16T21:38:49.981853Z"
    }
   }
  },
  {
   "cell_type": "code",
   "execution_count": 45,
   "outputs": [
    {
     "name": "stdout",
     "output_type": "stream",
     "text": [
      "0.36510121919687283\n"
     ]
    }
   ],
   "source": [
    "# test mse score\n",
    "print(MLWorkflow.return_loss(final_model, components, process='test'))\n",
    "\n",
    "# cross val score for the fine-tuned model\n",
    "cross_val_score_rf_fine_tuned = Tuner.cross_validation(final_model,\n",
    "                                                           components['X_train'],\n",
    "                                                           components['y_train'])"
   ],
   "metadata": {
    "collapsed": false,
    "ExecuteTime": {
     "end_time": "2023-12-16T21:39:06.218938Z",
     "start_time": "2023-12-16T21:38:53.077986Z"
    }
   }
  },
  {
   "cell_type": "code",
   "execution_count": 46,
   "outputs": [
    {
     "data": {
      "text/plain": "count    10.000000\nmean      0.623764\nstd       0.018755\nmin       0.598829\n25%       0.607825\n50%       0.622662\n75%       0.637922\nmax       0.655653\ndtype: float64"
     },
     "execution_count": 46,
     "metadata": {},
     "output_type": "execute_result"
    }
   ],
   "source": [
    "pd.Series(cross_val_score_rf_fine_tuned).describe()"
   ],
   "metadata": {
    "collapsed": false,
    "ExecuteTime": {
     "end_time": "2023-12-16T21:39:06.228198Z",
     "start_time": "2023-12-16T21:39:06.208926Z"
    }
   }
  },
  {
   "cell_type": "markdown",
   "source": [
    "We can see that the model, gained a very low to the cross val score. We will keep this model for now, do some inference testing and then repeat the process, with the original features, not applying dimensionality reduction."
   ],
   "metadata": {
    "collapsed": false
   }
  },
  {
   "cell_type": "code",
   "execution_count": 47,
   "outputs": [],
   "source": [
    "ml_work_flow.save_model(final_model, '../serials/regression_model.pkl')"
   ],
   "metadata": {
    "collapsed": false,
    "ExecuteTime": {
     "end_time": "2023-12-16T21:39:06.228890Z",
     "start_time": "2023-12-16T21:39:06.224340Z"
    }
   }
  }
 ],
 "metadata": {
  "kernelspec": {
   "name": "regression_kernel",
   "language": "python",
   "display_name": "regression_kernel"
  },
  "language_info": {
   "codemirror_mode": {
    "name": "ipython",
    "version": 2
   },
   "file_extension": ".py",
   "mimetype": "text/x-python",
   "name": "python",
   "nbconvert_exporter": "python",
   "pygments_lexer": "ipython2",
   "version": "2.7.6"
  }
 },
 "nbformat": 4,
 "nbformat_minor": 0
}
