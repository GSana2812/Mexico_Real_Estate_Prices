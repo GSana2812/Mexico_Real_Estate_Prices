{
 "cells": [
  {
   "cell_type": "code",
   "execution_count": 5,
   "metadata": {
    "collapsed": true,
    "ExecuteTime": {
     "end_time": "2023-12-09T22:57:03.153947Z",
     "start_time": "2023-12-09T22:57:03.146600Z"
    }
   },
   "outputs": [],
   "source": [
    "# Doing configurations to further import other libraries within our src package\n",
    "import sys\n",
    "import os\n",
    "import tomli\n",
    "\n",
    "def load_config(filename):\n",
    "    with open(filename, 'rb') as file:\n",
    "        config = tomli.load(file)\n",
    "    return config\n",
    "\n",
    "\n",
    "config = load_config('./config.toml')\n",
    "\n",
    "sys.path.append(config['path']['path_name'])\n",
    "os.chdir(config['path']['path_name'])"
   ]
  },
  {
   "cell_type": "code",
   "execution_count": 6,
   "outputs": [],
   "source": [
    "import pandas as pd\n",
    "from src.preparation import Wrangling"
   ],
   "metadata": {
    "collapsed": false,
    "ExecuteTime": {
     "end_time": "2023-12-09T22:57:06.190974Z",
     "start_time": "2023-12-09T22:57:06.148683Z"
    }
   }
  },
  {
   "cell_type": "code",
   "execution_count": 7,
   "outputs": [],
   "source": [
    "wranger = Wrangling(config['path']['path_name'])\n",
    "df = wranger.load_data('data')"
   ],
   "metadata": {
    "collapsed": false,
    "ExecuteTime": {
     "end_time": "2023-12-09T22:57:07.642563Z",
     "start_time": "2023-12-09T22:57:07.183410Z"
    }
   }
  },
  {
   "cell_type": "code",
   "execution_count": 8,
   "outputs": [
    {
     "data": {
      "text/plain": "   Unnamed: 0 operation property_type  \\\n0           1      sell     apartment   \n1           2      sell     apartment   \n2           3      sell     apartment   \n3           4      sell     apartment   \n4           5      sell     apartment   \n\n                       place_with_parent_names                       lat-lon  \\\n0  |Gustavo A. Madero|Distrito Federal|México|          19.516777,-99.160149   \n1  |Gustavo A. Madero|Distrito Federal|México|          19.466724,-99.131614   \n2     |Álvaro Obregón|Distrito Federal|México|           19.33228,-99.243934   \n3          |Benito Juárez|Quintana Roo|México|  21.1105772788,-86.8537859927   \n4      |Benito Juárez|Distrito Federal|México|            19.39365,-99.14769   \n\n       price currency  price_aprox_local_currency  price_aprox_usd  \\\n0  1200000.0      MXN                  1189144.46         63223.78   \n1   480000.0      MXN                   475657.74         25289.51   \n2  4559261.0      MXN                  4518016.68        240211.43   \n3  3808088.0      MXN                  3774533.79        200682.34   \n4  1730000.0      MXN                  1714349.82         91147.61   \n\n   surface_total_in_m2  surface_covered_in_m2  price_usd_per_m2  price_per_m2  \\\n0                 88.0                   88.0        718.452046   13636.36364   \n1                  NaN                   48.0               NaN   10000.00000   \n2                  NaN                  126.0               NaN   36184.61111   \n3                  0.0                  171.0               NaN   22269.52047   \n4                  NaN                  100.0               NaN   17300.00000   \n\n   floor  rooms  expenses                                      properati_url  \n0    NaN    NaN       NaN  http://gustavo-a-madero.properati.com.mx/r644_...  \n1    NaN    NaN       NaN  http://vallejo.properati.com.mx/mz4c_venta_dep...  \n2    NaN    NaN       NaN  http://alvaro-obregon.properati.com.mx/jh8j_ve...  \n3    NaN    NaN       NaN  http://cancun.properati.com.mx/qus8_venta_depa...  \n4    NaN    NaN       NaN  http://benito-juarez.properati.com.mx/q5my_ven...  ",
      "text/html": "<div>\n<style scoped>\n    .dataframe tbody tr th:only-of-type {\n        vertical-align: middle;\n    }\n\n    .dataframe tbody tr th {\n        vertical-align: top;\n    }\n\n    .dataframe thead th {\n        text-align: right;\n    }\n</style>\n<table border=\"1\" class=\"dataframe\">\n  <thead>\n    <tr style=\"text-align: right;\">\n      <th></th>\n      <th>Unnamed: 0</th>\n      <th>operation</th>\n      <th>property_type</th>\n      <th>place_with_parent_names</th>\n      <th>lat-lon</th>\n      <th>price</th>\n      <th>currency</th>\n      <th>price_aprox_local_currency</th>\n      <th>price_aprox_usd</th>\n      <th>surface_total_in_m2</th>\n      <th>surface_covered_in_m2</th>\n      <th>price_usd_per_m2</th>\n      <th>price_per_m2</th>\n      <th>floor</th>\n      <th>rooms</th>\n      <th>expenses</th>\n      <th>properati_url</th>\n    </tr>\n  </thead>\n  <tbody>\n    <tr>\n      <th>0</th>\n      <td>1</td>\n      <td>sell</td>\n      <td>apartment</td>\n      <td>|Gustavo A. Madero|Distrito Federal|México|</td>\n      <td>19.516777,-99.160149</td>\n      <td>1200000.0</td>\n      <td>MXN</td>\n      <td>1189144.46</td>\n      <td>63223.78</td>\n      <td>88.0</td>\n      <td>88.0</td>\n      <td>718.452046</td>\n      <td>13636.36364</td>\n      <td>NaN</td>\n      <td>NaN</td>\n      <td>NaN</td>\n      <td>http://gustavo-a-madero.properati.com.mx/r644_...</td>\n    </tr>\n    <tr>\n      <th>1</th>\n      <td>2</td>\n      <td>sell</td>\n      <td>apartment</td>\n      <td>|Gustavo A. Madero|Distrito Federal|México|</td>\n      <td>19.466724,-99.131614</td>\n      <td>480000.0</td>\n      <td>MXN</td>\n      <td>475657.74</td>\n      <td>25289.51</td>\n      <td>NaN</td>\n      <td>48.0</td>\n      <td>NaN</td>\n      <td>10000.00000</td>\n      <td>NaN</td>\n      <td>NaN</td>\n      <td>NaN</td>\n      <td>http://vallejo.properati.com.mx/mz4c_venta_dep...</td>\n    </tr>\n    <tr>\n      <th>2</th>\n      <td>3</td>\n      <td>sell</td>\n      <td>apartment</td>\n      <td>|Álvaro Obregón|Distrito Federal|México|</td>\n      <td>19.33228,-99.243934</td>\n      <td>4559261.0</td>\n      <td>MXN</td>\n      <td>4518016.68</td>\n      <td>240211.43</td>\n      <td>NaN</td>\n      <td>126.0</td>\n      <td>NaN</td>\n      <td>36184.61111</td>\n      <td>NaN</td>\n      <td>NaN</td>\n      <td>NaN</td>\n      <td>http://alvaro-obregon.properati.com.mx/jh8j_ve...</td>\n    </tr>\n    <tr>\n      <th>3</th>\n      <td>4</td>\n      <td>sell</td>\n      <td>apartment</td>\n      <td>|Benito Juárez|Quintana Roo|México|</td>\n      <td>21.1105772788,-86.8537859927</td>\n      <td>3808088.0</td>\n      <td>MXN</td>\n      <td>3774533.79</td>\n      <td>200682.34</td>\n      <td>0.0</td>\n      <td>171.0</td>\n      <td>NaN</td>\n      <td>22269.52047</td>\n      <td>NaN</td>\n      <td>NaN</td>\n      <td>NaN</td>\n      <td>http://cancun.properati.com.mx/qus8_venta_depa...</td>\n    </tr>\n    <tr>\n      <th>4</th>\n      <td>5</td>\n      <td>sell</td>\n      <td>apartment</td>\n      <td>|Benito Juárez|Distrito Federal|México|</td>\n      <td>19.39365,-99.14769</td>\n      <td>1730000.0</td>\n      <td>MXN</td>\n      <td>1714349.82</td>\n      <td>91147.61</td>\n      <td>NaN</td>\n      <td>100.0</td>\n      <td>NaN</td>\n      <td>17300.00000</td>\n      <td>NaN</td>\n      <td>NaN</td>\n      <td>NaN</td>\n      <td>http://benito-juarez.properati.com.mx/q5my_ven...</td>\n    </tr>\n  </tbody>\n</table>\n</div>"
     },
     "execution_count": 8,
     "metadata": {},
     "output_type": "execute_result"
    }
   ],
   "source": [
    "df.head()"
   ],
   "metadata": {
    "collapsed": false,
    "ExecuteTime": {
     "end_time": "2023-12-09T22:57:09.013103Z",
     "start_time": "2023-12-09T22:57:08.983385Z"
    }
   }
  },
  {
   "cell_type": "code",
   "execution_count": 5,
   "outputs": [],
   "source": [
    "# Initially, let's drop Unnamed: 0 and properati_url, because they don't tell us nothing significant\n",
    "'''Wrangling.drop_unnecessary_columns(df, cols=['Unnamed: 0','properati_url'])\n",
    "# Dropping columns now that are not needed anymore such as place_with_parent_names, lat-lom\n",
    "Wrangling.drop_unnecessary_columns(df, cols=['place_with_parent_names','lat-lon'])\n",
    "# Dropping high leakage features: features that are very similar in value and purpose to the target variable\n",
    "# Instead we need only 1 target variable\n",
    "Wrangling.drop_unnecessary_columns(df, cols=['price','price_aprox_local_currency','price_usd_per_m2', 'price_per_m2'])\n",
    "# Drop currency, because it doesn't give us a significant value\n",
    "Wrangling.drop_unnecessary_columns(df, cols=['currency'])''' #This code will take place later in preprocessing"
   ],
   "metadata": {
    "collapsed": false,
    "ExecuteTime": {
     "end_time": "2023-12-09T13:54:03.016092Z",
     "start_time": "2023-12-09T13:54:02.947311Z"
    }
   }
  },
  {
   "cell_type": "code",
   "execution_count": 9,
   "outputs": [],
   "source": [
    "# add borough column, which is the cleaned version of place_with_parent_names\n",
    "# repeat same procedure for lat,lon\n",
    "Wrangling.clean_borough(df, 'place_with_parent_names', 'borough')\n",
    "Wrangling.clean_latitude_longitude(df, 'lat-lon', new_cols=['lat','lon'])\n",
    "#Wrangling.clean_scientific_code(df, cols=['[price','price_aprox_local_currency'])"
   ],
   "metadata": {
    "collapsed": false,
    "ExecuteTime": {
     "end_time": "2023-12-09T22:57:11.510605Z",
     "start_time": "2023-12-09T22:57:11.476861Z"
    }
   }
  },
  {
   "cell_type": "code",
   "execution_count": 10,
   "outputs": [],
   "source": [
    "df.to_csv('./data/cleaned_df_v1.csv', index=False)"
   ],
   "metadata": {
    "collapsed": false,
    "ExecuteTime": {
     "end_time": "2023-12-09T22:57:14.604314Z",
     "start_time": "2023-12-09T22:57:14.352531Z"
    }
   }
  },
  {
   "cell_type": "code",
   "execution_count": null,
   "outputs": [],
   "source": [],
   "metadata": {
    "collapsed": false
   }
  }
 ],
 "metadata": {
  "kernelspec": {
   "name": "regression_kernel",
   "language": "python",
   "display_name": "regression_kernel"
  },
  "language_info": {
   "codemirror_mode": {
    "name": "ipython",
    "version": 2
   },
   "file_extension": ".py",
   "mimetype": "text/x-python",
   "name": "python",
   "nbconvert_exporter": "python",
   "pygments_lexer": "ipython2",
   "version": "2.7.6"
  }
 },
 "nbformat": 4,
 "nbformat_minor": 0
}
